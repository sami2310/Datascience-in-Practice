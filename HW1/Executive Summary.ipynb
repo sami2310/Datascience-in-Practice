{
 "cells": [
  {
   "cell_type": "markdown",
   "metadata": {},
   "source": [
    "# Executive Summary"
   ]
  },
  {
   "cell_type": "markdown",
   "metadata": {},
   "source": [
    "## Contributors :"
   ]
  },
  {
   "cell_type": "markdown",
   "metadata": {},
   "source": [
    "- Nourchene Ben Romdhane\n",
    "- Firas Kanoun\n",
    "- Zeineb Sahnoun\n",
    "- Sami Ben Hassen"
   ]
  },
  {
   "cell_type": "markdown",
   "metadata": {},
   "source": [
    "## Context"
   ]
  },
  {
   "cell_type": "markdown",
   "metadata": {},
   "source": [
    "**For Telephone service companies, the cost of retaining an existing customer is far less than acquiring a new one.**\n",
    "\n",
    "**As we were asked in the assignment we will focus on understanding the customer base of the company and we will not be interested in predicting churn at this point.**"
   ]
  },
  {
   "cell_type": "markdown",
   "metadata": {},
   "source": [
    "## Data type"
   ]
  },
  {
   "cell_type": "markdown",
   "metadata": {},
   "source": [
    "**We started by looking at the data we had in hand:**\n",
    "\n",
    "**Most of the features are categorical, most of the time containing only two or three possible values. The only features that are not categorical are : CustomerID, Monthly charges, Total charges and Tenure.**\n",
    "\n",
    "**We started our analysis by looking at these continuous features and then looking at the categorical ones.**"
   ]
  },
  {
   "cell_type": "markdown",
   "metadata": {},
   "source": [
    "## Exploratory Data Analysis"
   ]
  },
  {
   "cell_type": "markdown",
   "metadata": {},
   "source": [
    "### Tenure"
   ]
  },
  {
   "cell_type": "markdown",
   "metadata": {},
   "source": [
    "**From the distribution of tenure we were able to derive the following observations:**\n",
    "\n",
    "**The Telco company has a very large number of new clients (25% of the customers have subscribed since less than 1year and 3months ago) but also a very large number of \"old\" clients (25% of the customers have been with the company for more than 5years)**\n",
    "\n",
    "**We can then say that the company is doing good in attracting new customers but also in keeping the old ones**\n",
    "\n",
    "**This analysis also tells us that this study have been conducted for a period of 72/12 = 6 years, since it is the highest value of tenure.**\n",
    "\n",
    "**The large value that represents more than 10% of the clients having tenure equal to 6 years may be explained by the launching of the Telco company which attracted a lot of users (probably because of a launching deal).**\n",
    "\n",
    "**The histogram of Tenure by payment also shows that most of the new clients are choosing the month to month contract in contrast to the old clients who were more likely to choose the 2years contract. This has probably something to do with the deals offered by the company.**"
   ]
  },
  {
   "cell_type": "markdown",
   "metadata": {},
   "source": [
    "### Monthly Charges & Total Charges:"
   ]
  },
  {
   "cell_type": "markdown",
   "metadata": {},
   "source": [
    "**From the histogram of monthly charges, we saw that the plot here is skewed to the left which means that most clients have low monthly charges.**\n",
    "\n",
    "**From the histogram of Total charges,we saw that the total charges decay exponentially, meaning that most of the clients pay small charges. Indeed, more than 22% of the clients paid less than 500 euros as total charges**\n",
    "\n",
    "**By calculating the pearson correlation coefficient, we saw that it is equal to 0.75. This confirms our intuition that these two features are highly positively correlated. A person who pays high monthly charges also pays high total charges.**"
   ]
  },
  {
   "cell_type": "markdown",
   "metadata": {},
   "source": [
    "### Gender :"
   ]
  },
  {
   "cell_type": "markdown",
   "metadata": {},
   "source": [
    "**From the distribution, we saw that the customer base is balanced between male and female almost equally with a ratio of 50.7% and 49.3%.**"
   ]
  },
  {
   "cell_type": "markdown",
   "metadata": {},
   "source": [
    "### Senior Citizens"
   ]
  },
  {
   "cell_type": "markdown",
   "metadata": {},
   "source": [
    "**The distribution shows that most of the clients of the data set (almost 90%) are below 50 years old.**"
   ]
  },
  {
   "cell_type": "markdown",
   "metadata": {},
   "source": [
    "### Additional services & correlation"
   ]
  },
  {
   "cell_type": "markdown",
   "metadata": {},
   "source": [
    "**The distribution shows a balanced ratio 50%/50% of clients opting for additional services and those who don't have them**\n",
    "\n",
    "**On contrary of what we could belive senior citizens have the same balanced ratio also**\n",
    "\n",
    "**Also, we calculated a high correlation between some of the additional services, for example Online security and Online backup. Also, between Streaming TV and Streaming movies.**"
   ]
  }
 ],
 "metadata": {
  "kernelspec": {
   "display_name": "Python 3",
   "language": "python",
   "name": "python3"
  },
  "language_info": {
   "codemirror_mode": {
    "name": "ipython",
    "version": 3
   },
   "file_extension": ".py",
   "mimetype": "text/x-python",
   "name": "python",
   "nbconvert_exporter": "python",
   "pygments_lexer": "ipython3",
   "version": "3.7.1"
  }
 },
 "nbformat": 4,
 "nbformat_minor": 2
}
